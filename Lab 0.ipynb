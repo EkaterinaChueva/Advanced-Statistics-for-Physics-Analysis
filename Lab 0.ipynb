{
 "cells": [
  {
   "cell_type": "markdown",
   "id": "9f6dc7c2",
   "metadata": {},
   "source": [
    "## Ex. 1\n",
    "\n",
    "Write a function that computes and returns the n-th Fibonacci number."
   ]
  },
  {
   "cell_type": "code",
   "execution_count": 1,
   "id": "d5f5b0c8",
   "metadata": {},
   "outputs": [
    {
     "name": "stdout",
     "output_type": "stream",
     "text": [
      "[1] 144\n"
     ]
    }
   ],
   "source": [
    "fibonacci <- function(N){\n",
    "    num1 <- 0\n",
    "    num2 <- 1\n",
    "    if (N == 1) return(num1)\n",
    "    else if (N == 2) return(num2)\n",
    "    else {\n",
    "        N <- N - 2\n",
    "        while (N > 0){\n",
    "            num <- num1 + num2\n",
    "            num1 <- num2\n",
    "            num2 <- num\n",
    "            N <- N - 1\n",
    "        }\n",
    "        return(num2)\n",
    "    }\n",
    "}\n",
    "\n",
    "print(fibonacci(13))"
   ]
  },
  {
   "cell_type": "markdown",
   "id": "23ddddeb",
   "metadata": {},
   "source": [
    "## Ex. 2\n",
    "\n",
    "Compute the greatest common divisor of two integers using Euclid’s algorithm."
   ]
  },
  {
   "cell_type": "code",
   "execution_count": 2,
   "id": "accdca1c",
   "metadata": {},
   "outputs": [
    {
     "name": "stdout",
     "output_type": "stream",
     "text": [
      "[1] 21\n"
     ]
    }
   ],
   "source": [
    "gcd <- function(a, b){\n",
    "    while (b > 0){\n",
    "        t <- b\n",
    "        b <- a %% b\n",
    "        a <- t\n",
    "    }\n",
    "    return(a)\n",
    "}\n",
    "\n",
    "print(gcd(105, 252))"
   ]
  },
  {
   "cell_type": "markdown",
   "id": "9e33fbd3",
   "metadata": {},
   "source": [
    "## Ex. 3\n",
    "\n",
    "Given a positive integer number, decompose it, with a list of products of prime numbers."
   ]
  },
  {
   "cell_type": "markdown",
   "id": "41653f18",
   "metadata": {},
   "source": [
    "factors := [ ]\n",
    "while div(n, 2) = true do\n",
    "    factors := add(2, factors)\n",
    "    n := n / 2\n",
    "while div(n, 3) = true do\n",
    "    factors := add(3, factors)\n",
    "    n := n / 3\n",
    "while div(n, 5) = true do\n",
    "    factors := add(5, factors)\n",
    "    n := n / 5\n",
    "k := 7; i := 0\n",
    "while k * k ≤ n do\n",
    "    if div(n, k) = true then \n",
    "        add(k, factors)\n",
    "        n := n / k\n",
    "    else\n",
    "        k := k + inc[i]\n",
    "        if i < 7 then i := i + 1 else i := 0\n",
    "if n > 1 then add(n, factors)\n",
    "return factors\n"
   ]
  },
  {
   "cell_type": "markdown",
   "id": "53e98f37",
   "metadata": {},
   "source": [
    "Wheel factorization (from wikipedia):\n",
    "\n",
    "For wheel factorization, one starts from a small list of numbers, called the basis — generally the first few prime numbers; then one generates the list, called the wheel, of the integers that are coprime with all numbers of the basis. Then to find the smallest divisor of the number to be factorized, one divides it successively by the numbers in the basis, and in the wheel.\n",
    "\n",
    "With a given basis of the first few prime numbers {2, 3, 5}, the \"first turn\" of the wheel consists of:\n",
    "\n",
    "    7, 11, 13, 17, 19, 23, 29, 31.\n",
    "\n",
    "The second turn is obtained by adding 30, the product of the basis, to the numbers in the first turn. The third turn is obtained by adding 30 to the second turn, and so on.\n",
    "\n",
    "For implementing the method, one may remark that the increments between two consecutive elements of the wheel, that is\n",
    "\n",
    "    inc = [4, 2, 4, 2, 4, 6, 2, 6],"
   ]
  },
  {
   "cell_type": "code",
   "execution_count": 3,
   "id": "13535379",
   "metadata": {},
   "outputs": [],
   "source": [
    "wheel <- function(n){\n",
    "    inc <- c(4, 2, 4, 2, 4, 6, 2, 6)\n",
    "    factors <- c()\n",
    "    \n",
    "    while ((n %% 2) == 0) {\n",
    "        factors <- c(2, factors)\n",
    "        n <- n/2\n",
    "    }\n",
    "    \n",
    "    while ((n %% 3) == 0) {\n",
    "        factors <- c(3, factors)\n",
    "        n <- n/3\n",
    "    }\n",
    "    \n",
    "    while ((n %% 5) == 0) {\n",
    "        factors <- c(5, factors)\n",
    "        n <- n/5\n",
    "    }\n",
    "    \n",
    "    k <- 7\n",
    "    i <- 1\n",
    "    print(length(n))\n",
    "    while (k*k <= n) {\n",
    "    if ((n %% k) == 0) { \n",
    "        factors <- c(k, factors)\n",
    "        n <- n/k\n",
    "        }\n",
    "    else {\n",
    "        k <- k + inc[i]\n",
    "        if (i < 7) i <- i + 1\n",
    "        else i <- 0\n",
    "        }\n",
    "    }\n",
    "    if (n > 1) factors <- c(n, factors)\n",
    "    \n",
    "    return(factors)\n",
    "}"
   ]
  },
  {
   "cell_type": "code",
   "execution_count": 4,
   "id": "279a4a48",
   "metadata": {},
   "outputs": [
    {
     "name": "stdout",
     "output_type": "stream",
     "text": [
      "[1] 1\n",
      "[1] 17 11  3\n"
     ]
    }
   ],
   "source": [
    "print(wheel(561))"
   ]
  }
 ],
 "metadata": {
  "kernelspec": {
   "display_name": "R 4.2.2",
   "language": "R",
   "name": "ir422"
  },
  "language_info": {
   "codemirror_mode": "r",
   "file_extension": ".r",
   "mimetype": "text/x-r-source",
   "name": "R",
   "pygments_lexer": "r",
   "version": "4.2.2"
  }
 },
 "nbformat": 4,
 "nbformat_minor": 5
}
